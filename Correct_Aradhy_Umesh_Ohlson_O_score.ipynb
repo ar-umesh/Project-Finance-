{
  "nbformat": 4,
  "nbformat_minor": 0,
  "metadata": {
    "colab": {
      "provenance": [],
      "authorship_tag": "ABX9TyM+jiNnoAM06QImIrrclNCi",
      "include_colab_link": true
    },
    "kernelspec": {
      "name": "python3",
      "display_name": "Python 3"
    },
    "language_info": {
      "name": "python"
    }
  },
  "cells": [
    {
      "cell_type": "markdown",
      "metadata": {
        "id": "view-in-github",
        "colab_type": "text"
      },
      "source": [
        "<a href=\"https://colab.research.google.com/github/ar-umesh/Project-Finance-/blob/main/Correct_Aradhy_Umesh_Ohlson_O_score.ipynb\" target=\"_parent\"><img src=\"https://colab.research.google.com/assets/colab-badge.svg\" alt=\"Open In Colab\"/></a>"
      ]
    },
    {
      "cell_type": "code",
      "execution_count": null,
      "metadata": {
        "colab": {
          "base_uri": "https://localhost:8080/"
        },
        "id": "GvhIDpNSuxvK",
        "outputId": "1127612e-eec9-4081-c6f4-5751e87d7b88"
      },
      "outputs": [
        {
          "output_type": "stream",
          "name": "stdout",
          "text": [
            "Requirement already satisfied: yfinance in /usr/local/lib/python3.10/dist-packages (0.2.35)\n",
            "Requirement already satisfied: pandas>=1.3.0 in /usr/local/lib/python3.10/dist-packages (from yfinance) (1.5.3)\n",
            "Requirement already satisfied: numpy>=1.16.5 in /usr/local/lib/python3.10/dist-packages (from yfinance) (1.23.5)\n",
            "Requirement already satisfied: requests>=2.31 in /usr/local/lib/python3.10/dist-packages (from yfinance) (2.31.0)\n",
            "Requirement already satisfied: multitasking>=0.0.7 in /usr/local/lib/python3.10/dist-packages (from yfinance) (0.0.11)\n",
            "Requirement already satisfied: lxml>=4.9.1 in /usr/local/lib/python3.10/dist-packages (from yfinance) (4.9.4)\n",
            "Requirement already satisfied: appdirs>=1.4.4 in /usr/local/lib/python3.10/dist-packages (from yfinance) (1.4.4)\n",
            "Requirement already satisfied: pytz>=2022.5 in /usr/local/lib/python3.10/dist-packages (from yfinance) (2023.3.post1)\n",
            "Requirement already satisfied: frozendict>=2.3.4 in /usr/local/lib/python3.10/dist-packages (from yfinance) (2.4.0)\n",
            "Requirement already satisfied: peewee>=3.16.2 in /usr/local/lib/python3.10/dist-packages (from yfinance) (3.17.0)\n",
            "Requirement already satisfied: beautifulsoup4>=4.11.1 in /usr/local/lib/python3.10/dist-packages (from yfinance) (4.11.2)\n",
            "Requirement already satisfied: html5lib>=1.1 in /usr/local/lib/python3.10/dist-packages (from yfinance) (1.1)\n",
            "Requirement already satisfied: soupsieve>1.2 in /usr/local/lib/python3.10/dist-packages (from beautifulsoup4>=4.11.1->yfinance) (2.5)\n",
            "Requirement already satisfied: six>=1.9 in /usr/local/lib/python3.10/dist-packages (from html5lib>=1.1->yfinance) (1.16.0)\n",
            "Requirement already satisfied: webencodings in /usr/local/lib/python3.10/dist-packages (from html5lib>=1.1->yfinance) (0.5.1)\n",
            "Requirement already satisfied: python-dateutil>=2.8.1 in /usr/local/lib/python3.10/dist-packages (from pandas>=1.3.0->yfinance) (2.8.2)\n",
            "Requirement already satisfied: charset-normalizer<4,>=2 in /usr/local/lib/python3.10/dist-packages (from requests>=2.31->yfinance) (3.3.2)\n",
            "Requirement already satisfied: idna<4,>=2.5 in /usr/local/lib/python3.10/dist-packages (from requests>=2.31->yfinance) (3.6)\n",
            "Requirement already satisfied: urllib3<3,>=1.21.1 in /usr/local/lib/python3.10/dist-packages (from requests>=2.31->yfinance) (2.0.7)\n",
            "Requirement already satisfied: certifi>=2017.4.17 in /usr/local/lib/python3.10/dist-packages (from requests>=2.31->yfinance) (2023.11.17)\n"
          ]
        }
      ],
      "source": [
        "pip install yfinance"
      ]
    },
    {
      "cell_type": "code",
      "source": [
        "import math\n",
        "import yfinance as yf\n",
        "\n",
        "RELIANCE = yf.Ticker(\"RELIANCE.NS\")\n",
        "\n",
        "income_stmst= RELIANCE.income_stmt\n",
        "\n",
        "balance_sheet=RELIANCE.balance_sheet\n",
        "\n",
        "cashflow_stmst=RELIANCE.cashflow\n",
        "\n",
        "def calculate_ohlson_o_score():\n",
        "\n",
        "\n",
        "    total_assets = balance_sheet['2023-03-31']['Total Assets']\n",
        "\n",
        "    gross_national_product_price_index_level = 348 #for indian stocks\n",
        "\n",
        "    total_liabilities_net_minority_interest = balance_sheet['2023-03-31']['Total Liabilities Net Minority Interest']\n",
        "    minority_interest =  balance_sheet['2023-03-31']['Minority Interest']\n",
        "    total_liabilities =  total_liabilities_net_minority_interest + minority_interest\n",
        "\n",
        "    working_capital = balance_sheet['2023-03-31']['Working Capital']\n",
        "\n",
        "    current_year_current_liabilities = balance_sheet['2023-03-31']['Current Liabilities']\n",
        "\n",
        "    current_year_current_assets = balance_sheet['2023-03-31']['Current Assets']\n",
        "\n",
        "    X=0\n",
        "    if total_liabilities > total_assets:\n",
        "        X =  1\n",
        "\n",
        "    current_year_net_income = income_stmst['2023-03-31']['Net Income']\n",
        "    last_year_net_income = income_stmst['2022-03-31']['Net Income']\n",
        "\n",
        "    depreciation_and_amortization = cashflow_stmst['2023-03-31']['Depreciation And Amortization']\n",
        "    gain_loss_on_sale_of_ppe = cashflow_stmst['2023-03-31']['Gain Loss On Sale Of PPE']\n",
        "    ffo = current_year_net_income + depreciation_and_amortization - gain_loss_on_sale_of_ppe\n",
        "\n",
        "    current_year_total_revenue = income_stmst['2023-03-31']['Total Revenue']\n",
        "    current_year_total_expenses = income_stmst['2023-03-31']['Total Expenses']\n",
        "    last_year_total_revenue = income_stmst['2023-03-31']['Total Revenue']\n",
        "    last_year_total_expenses = income_stmst['2023-03-31']['Total Expenses']\n",
        "    current_year_net_loss = current_year_total_revenue - current_year_total_expenses\n",
        "    last_year_net_loss = last_year_total_revenue - last_year_total_expenses\n",
        "\n",
        "    Y=0\n",
        "    if (current_year_net_loss < 0) and  (last_year_net_loss <0):\n",
        "        Y = 1\n",
        "\n",
        "\n",
        "    T =  calculate_ohlson_o_score_formula( total_assets, gross_national_product_price_index_level, total_liabilities,  working_capital,  current_year_current_liabilities , current_year_current_assets, X, current_year_net_income, last_year_net_income, ffo, Y)\n",
        "    return T\n",
        "\n",
        "def calculate_ohlson_o_score_formula( total_assets, gross_national_product_price_index_level, total_liabilities,  working_capital,  current_year_current_liabilities , current_year_current_assets, X, current_year_net_income, last_year_net_income, ffo, Y):\n",
        "    U1 = math.log10(total_assets / gross_national_product_price_index_level)\n",
        "    U2 = total_liabilities / total_assets\n",
        "    U3 = working_capital / total_assets\n",
        "    U4 = current_year_current_liabilities / current_year_current_assets\n",
        "    U5 = current_year_net_income / total_assets\n",
        "    U6 = ffo / total_liabilities\n",
        "    U7 = ((current_year_net_income - last_year_net_income ) / (current_year_net_income + last_year_net_income))\n",
        "\n",
        "    T = - 1.32 - 0.407 * U1 + 6.03 * U2 - 1.43 * U3 + 0.0757 * U4 - 1.72 * X - 2.37 * U5 - 1.83 * U6 + 0.285 * Y - 0.521 * U7\n",
        "    return T\n",
        "\n",
        "def classify_ohlson_o_score(T):\n",
        "    if T >= 0:\n",
        "        return \"Lower likelihood of financial distress.\"\n",
        "    else:\n",
        "        return \"Higher likelihood of financial distress.\"\n",
        "\n",
        "\n",
        "try:\n",
        "        # Calculate Ohlson O-score\n",
        "        T = calculate_ohlson_o_score()\n",
        "        print(f\"Ohlson O-score: {T}\")\n",
        "        # Classify\n",
        "        classification = classify_ohlson_o_score(T)\n",
        "        print(f\"Classification: {classification}\")\n",
        "\n",
        "except Exception as e:\n",
        "        print(f\"Error: {e}\")"
      ],
      "metadata": {
        "colab": {
          "base_uri": "https://localhost:8080/"
        },
        "id": "ULcI3G2qvANt",
        "outputId": "d2865ad8-1182-4b1c-f057-ebab0a45fc59"
      },
      "execution_count": null,
      "outputs": [
        {
          "output_type": "stream",
          "name": "stdout",
          "text": [
            "Ohlson O-score: -2.837875244079394\n",
            "Classification: Higher likelihood of financial distress.\n"
          ]
        }
      ]
    }
  ]
}