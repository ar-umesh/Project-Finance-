{
  "nbformat": 4,
  "nbformat_minor": 0,
  "metadata": {
    "colab": {
      "provenance": [],
      "authorship_tag": "ABX9TyN/OyO8VYj31tADSN5+56ua",
      "include_colab_link": true
    },
    "kernelspec": {
      "name": "python3",
      "display_name": "Python 3"
    },
    "language_info": {
      "name": "python"
    }
  },
  "cells": [
    {
      "cell_type": "markdown",
      "metadata": {
        "id": "view-in-github",
        "colab_type": "text"
      },
      "source": [
        "<a href=\"https://colab.research.google.com/github/ar-umesh/Project-Finance-/blob/main/Aradhy_Umesh_Beneish_M_score.ipynb\" target=\"_parent\"><img src=\"https://colab.research.google.com/assets/colab-badge.svg\" alt=\"Open In Colab\"/></a>"
      ]
    },
    {
      "cell_type": "code",
      "execution_count": null,
      "metadata": {
        "colab": {
          "base_uri": "https://localhost:8080/"
        },
        "id": "seSAL4VrYGfq",
        "outputId": "2bc2170a-8d83-4969-bda9-062a23f42e7a"
      },
      "outputs": [
        {
          "output_type": "stream",
          "name": "stdout",
          "text": [
            "Requirement already satisfied: yfinance in /usr/local/lib/python3.10/dist-packages (0.2.35)\n",
            "Requirement already satisfied: pandas>=1.3.0 in /usr/local/lib/python3.10/dist-packages (from yfinance) (1.5.3)\n",
            "Requirement already satisfied: numpy>=1.16.5 in /usr/local/lib/python3.10/dist-packages (from yfinance) (1.23.5)\n",
            "Requirement already satisfied: requests>=2.31 in /usr/local/lib/python3.10/dist-packages (from yfinance) (2.31.0)\n",
            "Requirement already satisfied: multitasking>=0.0.7 in /usr/local/lib/python3.10/dist-packages (from yfinance) (0.0.11)\n",
            "Requirement already satisfied: lxml>=4.9.1 in /usr/local/lib/python3.10/dist-packages (from yfinance) (4.9.4)\n",
            "Requirement already satisfied: appdirs>=1.4.4 in /usr/local/lib/python3.10/dist-packages (from yfinance) (1.4.4)\n",
            "Requirement already satisfied: pytz>=2022.5 in /usr/local/lib/python3.10/dist-packages (from yfinance) (2023.3.post1)\n",
            "Requirement already satisfied: frozendict>=2.3.4 in /usr/local/lib/python3.10/dist-packages (from yfinance) (2.4.0)\n",
            "Requirement already satisfied: peewee>=3.16.2 in /usr/local/lib/python3.10/dist-packages (from yfinance) (3.17.0)\n",
            "Requirement already satisfied: beautifulsoup4>=4.11.1 in /usr/local/lib/python3.10/dist-packages (from yfinance) (4.11.2)\n",
            "Requirement already satisfied: html5lib>=1.1 in /usr/local/lib/python3.10/dist-packages (from yfinance) (1.1)\n",
            "Requirement already satisfied: soupsieve>1.2 in /usr/local/lib/python3.10/dist-packages (from beautifulsoup4>=4.11.1->yfinance) (2.5)\n",
            "Requirement already satisfied: six>=1.9 in /usr/local/lib/python3.10/dist-packages (from html5lib>=1.1->yfinance) (1.16.0)\n",
            "Requirement already satisfied: webencodings in /usr/local/lib/python3.10/dist-packages (from html5lib>=1.1->yfinance) (0.5.1)\n",
            "Requirement already satisfied: python-dateutil>=2.8.1 in /usr/local/lib/python3.10/dist-packages (from pandas>=1.3.0->yfinance) (2.8.2)\n",
            "Requirement already satisfied: charset-normalizer<4,>=2 in /usr/local/lib/python3.10/dist-packages (from requests>=2.31->yfinance) (3.3.2)\n",
            "Requirement already satisfied: idna<4,>=2.5 in /usr/local/lib/python3.10/dist-packages (from requests>=2.31->yfinance) (3.6)\n",
            "Requirement already satisfied: urllib3<3,>=1.21.1 in /usr/local/lib/python3.10/dist-packages (from requests>=2.31->yfinance) (2.0.7)\n",
            "Requirement already satisfied: certifi>=2017.4.17 in /usr/local/lib/python3.10/dist-packages (from requests>=2.31->yfinance) (2023.11.17)\n"
          ]
        }
      ],
      "source": [
        "pip install yfinance"
      ]
    },
    {
      "cell_type": "code",
      "source": [
        "import yfinance as yf\n",
        "\n",
        "RELIANCE = yf.Ticker(\"RELIANCE.NS\")\n",
        "\n",
        "income_stmst= RELIANCE.income_stmt\n",
        "\n",
        "balance_sheet=RELIANCE.balance_sheet\n",
        "\n",
        "cashflow_stmst=RELIANCE.cashflow\n",
        "\n",
        "def calculate_beneish_m_score():\n",
        "\n",
        "    current_year_receivables = balance_sheet['2023-03-31']['Accounts Receivable']\n",
        "    last_year_receivables = balance_sheet['2022-03-31']['Accounts Receivable']\n",
        "    current_year_sales =  income_stmst['2023-03-31']['Total Revenue']\n",
        "    last_year_sales = income_stmst['2022-03-31']['Total Revenue']\n",
        "    days_sales_in_receivables_index = (current_year_receivables / current_year_sales) / ( last_year_receivables / last_year_sales)\n",
        "    if  days_sales_in_receivables_index != 0 :\n",
        "        days_sales_in_receivables_index = (current_year_receivables / current_year_sales) / ( last_year_receivables / last_year_sales)\n",
        "    else:\n",
        "         days_sales_in_receivables_index = 0\n",
        "\n",
        "    #Gross Profit = Total Revenue - Cost of Goods Sold\n",
        "    current_year_total_revenue = income_stmst['2023-03-31']['Total Revenue']\n",
        "    current_year_gross_profit = income_stmst['2023-03-31']['Gross Profit']\n",
        "    last_year_total_revenue = income_stmst['2022-03-31']['Total Revenue']\n",
        "    last_year_gross_profit = income_stmst['2022-03-31']['Gross Profit']\n",
        "    current_year_cost_of_goods_sold = current_year_total_revenue - current_year_gross_profit\n",
        "    last_year_cost_of_goods_sold = last_year_total_revenue - last_year_gross_profit\n",
        "    current_year_sales =  income_stmst['2023-03-31']['Total Revenue']\n",
        "    last_year_sales = income_stmst['2022-03-31']['Total Revenue']\n",
        "    gross_margin_index = 0\n",
        "\n",
        "    if gross_margin_index != 0:\n",
        "        gross_margin_index = ((last_year_sales - last_year_cost_of_goods_sold) / (current_year_sales / current_year_cost_of_goods_sold))\n",
        "\n",
        "\n",
        "    current_year_current_assets = balance_sheet['2023-03-31']['Current Assets']\n",
        "    last_year_current_assets = balance_sheet['2022-03-31']['Current Assets']\n",
        "    current_year_total_assets = balance_sheet['2023-03-31']['Total Assets']\n",
        "    last_year_total_assets = balance_sheet['2022-03-31']['Total Assets']\n",
        "    current_year_gross_ppe =  balance_sheet['2023-03-31']['Gross PPE']\n",
        "    last_year_gross_ppe =  balance_sheet['2022-03-31']['Gross PPE']\n",
        "    current_year_total_assets = balance_sheet['2023-03-31']['Total Assets']\n",
        "    last_year_total_assets = balance_sheet['2022-03-31']['Total Assets']\n",
        "    #Securities = {Total Assets} - {Current Assets} + {PP&E}\n",
        "    current_year_securities = current_year_total_assets - current_year_current_assets - current_year_gross_ppe\n",
        "    last_year_securities = last_year_total_assets - last_year_current_assets - last_year_gross_ppe\n",
        "    asset_quality_index = 0\n",
        "    if  asset_quality_index != 0:\n",
        "        asset_quality_index = (1 - ((current_year_current_assets +  current_year_gross_ppe +  current_year_securities) / current_year_total_assets)) / (1 - ((last_year_current_assets +  last_year_gross_ppe +  last_year_securities) / (last_year_total_assets)))\n",
        "\n",
        "\n",
        "\n",
        "    current_year_sales =  income_stmst['2023-03-31']['Total Revenue']\n",
        "    last_year_sales = income_stmst['2022-03-31']['Total Revenue']\n",
        "    sales_growth_index = 0\n",
        "    if sales_growth_index != 0:\n",
        "        sales_growth_index = current_year_sales / last_year_sales\n",
        "\n",
        "\n",
        "\n",
        "    current_year_depreciation = cashflow_stmst['2023-03-31']['Depreciation']\n",
        "    last_year_depreciation = cashflow_stmst['2022-03-31']['Depreciation']\n",
        "    current_year_gross_ppe =  balance_sheet['2023-03-31']['Gross PPE']\n",
        "    last_year_gross_ppe =  balance_sheet['2022-03-31']['Gross PPE']\n",
        "    depreciation_index = 0\n",
        "    if depreciation_index != 0:\n",
        "        depreciation_index = (last_year_depreciation / (last_year_gross_ppe + last_year_depreciation)) / (current_year_depreciation / (current_year_gross_ppe + current_year_depreciation))\n",
        "\n",
        "\n",
        "    current_year_sga =  income_stmst['2023-03-31']['Selling General And Administration']\n",
        "    last_year_sga = income_stmst['2022-03-31']['Selling General And Administration']\n",
        "    sales_general_and_administrative_expenses_index = 0\n",
        "    if sales_general_and_administrative_expenses_index != 0:\n",
        "        sales_general_and_administrative_expenses_index = (current_year_sga / current_year_sales) / (last_year_sga / last_year_sales )\n",
        "\n",
        "\n",
        "    current_year_long_term_debt = balance_sheet['2023-03-31']['Long Term Debt']\n",
        "    current_year_long_term_debt_issuance = cashflow_stmst['2023-03-31']['Long Term Debt Issuance']\n",
        "    current_year_long_term_debt_payments = cashflow_stmst['2023-03-31']['Long Term Debt Payments']\n",
        "    current_year_total_long_term_debt = current_year_long_term_debt + current_year_long_term_debt_issuance - current_year_long_term_debt_payments\n",
        "    last_year_long_term_debt = balance_sheet['2022-03-31']['Long Term Debt']\n",
        "    last_year_long_term_debt_issuance = cashflow_stmst['2022-03-31']['Long Term Debt Issuance']\n",
        "    last_year_long_term_debt_payments = cashflow_stmst['2022-03-31']['Long Term Debt Payments']\n",
        "    last_year_total_long_term_debt = last_year_long_term_debt + last_year_long_term_debt_issuance - last_year_long_term_debt_payments\n",
        "    current_year_current_liabilities = balance_sheet['2023-03-31']['Current Liabilities']\n",
        "    last_year_current_liabilities = balance_sheet['2022-03-31']['Current Liabilities']\n",
        "    current_year_total_assets = balance_sheet['2023-03-31']['Total Assets']\n",
        "    last_year_total_assets = balance_sheet['2022-03-31']['Total Assets']\n",
        "    leverage_index = 0\n",
        "    if leverage_index != 0:\n",
        "        leverage_index = ((current_year_current_liabilities + current_year_total_long_term_debt ) / current_year_total_assets) / ((last_year_current_liabilities + last_year_total_long_term_debt ) / last_year_total_assets)\n",
        "\n",
        "\n",
        "\n",
        "\n",
        "    income_from_continuing_operations_formula = income_stmst['2023-03-31']['Operating Income']\n",
        "    operating_cash_flow = cashflow_stmst['2023-03-31']['End Cash Position'] #Cash Flows from Operations\n",
        "    current_year_total_assets = balance_sheet['2023-03-31']['Total Assets']\n",
        "    total_accruals_to_total_assets = 0\n",
        "    if total_accruals_to_total_assets !=0:\n",
        "        total_accruals_to_total_assets = (income_from_continuing_operations_formula - operating_cash_flow) / current_year_total_assets\n",
        "\n",
        "\n",
        "    M_score =  calculate_beneish_m_score_formula( days_sales_in_receivables_index, gross_margin_index, asset_quality_index, sales_growth_index, depreciation_index, sales_general_and_administrative_expenses_index, leverage_index, total_accruals_to_total_assets)\n",
        "    return M_score\n",
        "\n",
        "def calculate_beneish_m_score_formula(days_sales_in_receivables_index, gross_margin_index, asset_quality_index, sales_growth_index, depreciation_index, sales_general_and_administrative_expenses_index, leverage_index, total_accruals_to_total_assets):\n",
        "    DSRI = days_sales_in_receivables_index\n",
        "    GMI = gross_margin_index\n",
        "    AQI = asset_quality_index\n",
        "    SGI = sales_growth_index\n",
        "    DEPI = depreciation_index\n",
        "    SGAI = sales_general_and_administrative_expenses_index\n",
        "    LVGI = leverage_index\n",
        "    TATA = total_accruals_to_total_assets\n",
        "\n",
        "    M_score = -4.84 + (0.92 * DSRI) + (0.528 * GMI) + (0.404 * AQI) + (0.892 * SGI) + (0.115 * DEPI) - (0.172 * SGAI) + (4.679 * TATA) - (0.327 * LVGI)\n",
        "    return M_score\n",
        "\n",
        "def classify_beneish_m_score(M_score):\n",
        "    if M_score > -1.78:\n",
        "        return \"high likelihood of manipulation\"\n",
        "    else:\n",
        "        return \"low likelihood of manipulation\"\n",
        "\n",
        "try:\n",
        "    # Calculate Beneish_m_score\n",
        "    M_score = calculate_beneish_m_score()\n",
        "    print(f\"Beneish_m_score: {M_score}\")\n",
        "    # Classify\n",
        "    classification = classify_beneish_m_score(M_score)\n",
        "    print(f\"Classification: {classification}\")\n",
        "\n",
        "except Exception as e:\n",
        "    print(f\"Error: {e}\")"
      ],
      "metadata": {
        "colab": {
          "base_uri": "https://localhost:8080/"
        },
        "id": "JI039BZmYQpx",
        "outputId": "01e5cd36-9971-483f-d5dc-90d0039ff306"
      },
      "execution_count": null,
      "outputs": [
        {
          "output_type": "stream",
          "name": "stdout",
          "text": [
            "Beneish_m_score: -3.958763834311401\n",
            "Classification: low likelihood of manipulation\n"
          ]
        }
      ]
    }
  ]
}