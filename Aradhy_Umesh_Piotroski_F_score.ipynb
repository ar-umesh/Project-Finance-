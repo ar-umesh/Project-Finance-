{
  "nbformat": 4,
  "nbformat_minor": 0,
  "metadata": {
    "colab": {
      "provenance": [],
      "authorship_tag": "ABX9TyMhWT6I3n4IYbXx3j+yvIph",
      "include_colab_link": true
    },
    "kernelspec": {
      "name": "python3",
      "display_name": "Python 3"
    },
    "language_info": {
      "name": "python"
    }
  },
  "cells": [
    {
      "cell_type": "markdown",
      "metadata": {
        "id": "view-in-github",
        "colab_type": "text"
      },
      "source": [
        "<a href=\"https://colab.research.google.com/github/ar-umesh/Project-Finance-/blob/main/Aradhy_Umesh_Piotroski_F_score.ipynb\" target=\"_parent\"><img src=\"https://colab.research.google.com/assets/colab-badge.svg\" alt=\"Open In Colab\"/></a>"
      ]
    },
    {
      "cell_type": "code",
      "execution_count": null,
      "metadata": {
        "colab": {
          "base_uri": "https://localhost:8080/"
        },
        "id": "QGlqjA0uzLy-",
        "outputId": "3c699c03-6026-4712-a246-a029c0a24e77"
      },
      "outputs": [
        {
          "output_type": "stream",
          "name": "stdout",
          "text": [
            "Requirement already satisfied: yfinance in /usr/local/lib/python3.10/dist-packages (0.2.35)\n",
            "Requirement already satisfied: pandas>=1.3.0 in /usr/local/lib/python3.10/dist-packages (from yfinance) (1.5.3)\n",
            "Requirement already satisfied: numpy>=1.16.5 in /usr/local/lib/python3.10/dist-packages (from yfinance) (1.23.5)\n",
            "Requirement already satisfied: requests>=2.31 in /usr/local/lib/python3.10/dist-packages (from yfinance) (2.31.0)\n",
            "Requirement already satisfied: multitasking>=0.0.7 in /usr/local/lib/python3.10/dist-packages (from yfinance) (0.0.11)\n",
            "Requirement already satisfied: lxml>=4.9.1 in /usr/local/lib/python3.10/dist-packages (from yfinance) (4.9.4)\n",
            "Requirement already satisfied: appdirs>=1.4.4 in /usr/local/lib/python3.10/dist-packages (from yfinance) (1.4.4)\n",
            "Requirement already satisfied: pytz>=2022.5 in /usr/local/lib/python3.10/dist-packages (from yfinance) (2023.3.post1)\n",
            "Requirement already satisfied: frozendict>=2.3.4 in /usr/local/lib/python3.10/dist-packages (from yfinance) (2.4.0)\n",
            "Requirement already satisfied: peewee>=3.16.2 in /usr/local/lib/python3.10/dist-packages (from yfinance) (3.17.0)\n",
            "Requirement already satisfied: beautifulsoup4>=4.11.1 in /usr/local/lib/python3.10/dist-packages (from yfinance) (4.11.2)\n",
            "Requirement already satisfied: html5lib>=1.1 in /usr/local/lib/python3.10/dist-packages (from yfinance) (1.1)\n",
            "Requirement already satisfied: soupsieve>1.2 in /usr/local/lib/python3.10/dist-packages (from beautifulsoup4>=4.11.1->yfinance) (2.5)\n",
            "Requirement already satisfied: six>=1.9 in /usr/local/lib/python3.10/dist-packages (from html5lib>=1.1->yfinance) (1.16.0)\n",
            "Requirement already satisfied: webencodings in /usr/local/lib/python3.10/dist-packages (from html5lib>=1.1->yfinance) (0.5.1)\n",
            "Requirement already satisfied: python-dateutil>=2.8.1 in /usr/local/lib/python3.10/dist-packages (from pandas>=1.3.0->yfinance) (2.8.2)\n",
            "Requirement already satisfied: charset-normalizer<4,>=2 in /usr/local/lib/python3.10/dist-packages (from requests>=2.31->yfinance) (3.3.2)\n",
            "Requirement already satisfied: idna<4,>=2.5 in /usr/local/lib/python3.10/dist-packages (from requests>=2.31->yfinance) (3.6)\n",
            "Requirement already satisfied: urllib3<3,>=1.21.1 in /usr/local/lib/python3.10/dist-packages (from requests>=2.31->yfinance) (2.0.7)\n",
            "Requirement already satisfied: certifi>=2017.4.17 in /usr/local/lib/python3.10/dist-packages (from requests>=2.31->yfinance) (2023.11.17)\n"
          ]
        }
      ],
      "source": [
        "pip install yfinance"
      ]
    },
    {
      "cell_type": "code",
      "source": [
        "import yfinance as yf\n",
        "\n",
        "stock_symbol = yf.Ticker(\"RELIANCE.NS\")\n",
        "\n",
        "income_stmst = stock_symbol.income_stmt\n",
        "\n",
        "balance_sheet = stock_symbol.balance_sheet\n",
        "\n",
        "cashflow_stmst = stock_symbol.cashflow\n",
        "\n",
        "def calculate_piotroski_f_score():\n",
        "    net_income = income_stmst['2023-03-31']['Net Income']\n",
        "    total_assets = balance_sheet['2023-03-31']['Total Assets']\n",
        "    return_on_assets = net_income/total_assets\n",
        "\n",
        "    end_cash_position = cashflow_stmst['2023-03-31']['End Cash Position']\n",
        "\n",
        "    lastyear_net_income = income_stmst['2022-03-31']['Net Income']\n",
        "    lastyear_total_assets = balance_sheet['2022-03-31']['Total Assets']\n",
        "    lastyear_roa= lastyear_net_income / lastyear_total_assets\n",
        "    difference_in_roa = return_on_assets - lastyear_roa\n",
        "\n",
        "    end_cash_position = cashflow_stmst['2023-03-31']['End Cash Position']\n",
        "    accrual = end_cash_position / total_assets\n",
        "    difference_in_accruals = accrual - return_on_assets\n",
        "\n",
        "    try:\n",
        "\n",
        "      current_year_total_debt = balance_sheet['2023-03-31']['Total Debt']\n",
        "      current_year_ebitda = income_stmst['2023-03-31']['EBITDA']\n",
        "      current_year_leverage = current_year_total_debt/current_year_ebitda\n",
        "      last_year_total_debt = balance_sheet['2022-03-31']['Total Debt']\n",
        "      last_year_ebitda = income_stmst['2022-03-31']['EBITDA']\n",
        "      last_year_leverage = last_year_total_debt / last_year_ebitda\n",
        "      difference_in_leverage = last_year_leverage - current_year_leverage\n",
        "    except Exception as e:\n",
        "      print(f\"Error: {e}\")\n",
        "\n",
        "    current_year_current_assets = balance_sheet['2023-03-31']['Current Assets']\n",
        "    current_year_current_liabilities = balance_sheet['2023-03-31']['Current Liabilities']\n",
        "    current_assets = current_year_current_assets / current_year_current_liabilities\n",
        "    last_year_current_assets = balance_sheet['2022-03-31']['Current Assets']\n",
        "    last_year_current_liabilities = balance_sheet['2022-03-31']['Current Liabilities']\n",
        "    last_current_assets = last_year_current_assets / last_year_current_liabilities\n",
        "    difference_in_current_ratio = current_assets - last_current_assets\n",
        "\n",
        "    current_year_share_issued = balance_sheet['2023-03-31']['Share Issued']\n",
        "    last_year_share_issued = balance_sheet['2022-03-31']['Share Issued']\n",
        "    difference_in_share_issued = current_year_share_issued - last_year_share_issued\n",
        "\n",
        "    current_year_gross_profit = income_stmst['2023-03-31']['Gross Profit']\n",
        "    last_year_gross_profit = income_stmst['2022-03-31']['Gross Profit']\n",
        "    difference_in_gross_profit = current_year_gross_profit - last_year_gross_profit\n",
        "\n",
        "    current_year_total_revenue = income_stmst['2023-03-31']['Total Revenue']\n",
        "    current_year_total_assests = balance_sheet['2023-03-31']['Total Assets']\n",
        "    current_year_asset_turnover_ratio = current_year_total_revenue / current_year_total_assests\n",
        "    last_year_total_revenue = income_stmst['2022-03-31']['Total Revenue']\n",
        "    last_year_total_assets = balance_sheet['2022-03-31']['Total Assets']\n",
        "    last_year_asset_turnover_ratio = last_year_total_revenue / last_year_total_assets\n",
        "    difference_in_asset_turnover_ratio = current_year_asset_turnover_ratio - last_year_asset_turnover_ratio\n",
        "\n",
        "    # Piotroski F-Score calculation\n",
        "    f_score= 0\n",
        "    f_score += int(return_on_assets > 0)\n",
        "    f_score += int(end_cash_position > 0)\n",
        "    f_score += int(difference_in_roa > 0)\n",
        "    f_score += int(difference_in_accruals > 0)\n",
        "    f_score += int(difference_in_leverage > 0)\n",
        "    f_score += int(difference_in_current_ratio > 0)\n",
        "    f_score += int(difference_in_share_issued <= 0)\n",
        "    f_score += int(difference_in_gross_profit > 0)\n",
        "    f_score += int(difference_in_asset_turnover_ratio > 0)\n",
        "    return f_score\n",
        "\n",
        "\n",
        "try:\n",
        "\n",
        "    f_score = calculate_piotroski_f_score()\n",
        "    print(f\"Piotroski F-Score is: {f_score}\")\n",
        "except Exception as e:\n",
        "    print(f\"Error: {e}\")\n",
        "\n"
      ],
      "metadata": {
        "colab": {
          "base_uri": "https://localhost:8080/"
        },
        "id": "2sq0akivzewv",
        "outputId": "f4512dea-04df-4969-d7ea-7e43c3809af2"
      },
      "execution_count": null,
      "outputs": [
        {
          "output_type": "stream",
          "name": "stdout",
          "text": [
            "Piotroski F-Score is: 6\n"
          ]
        }
      ]
    }
  ]
}